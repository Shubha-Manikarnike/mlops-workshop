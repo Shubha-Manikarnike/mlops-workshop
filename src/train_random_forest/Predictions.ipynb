{
 "cells": [
  {
   "cell_type": "code",
   "execution_count": null,
   "id": "fa0c63e0",
   "metadata": {},
   "outputs": [],
   "source": [
    "import requests\n",
    "import json\n",
    "\n",
    "with open(\"random_forest_dir/input_example.json\") as fp:\n",
    "    data = json.load(fp)\n",
    "    \n",
    "data = {\"dataframe_split\":data}\n",
    "\n",
    "with open(\"sample.json\", \"w\") as outfile:\n",
    "    json.dump(data, outfile)\n",
    "    \n",
    "with open(\"sample.json\") as fp:\n",
    "    data = json.load(fp)    \n",
    "\n",
    "results = requests.post(\"http://127.0.0.1:5000/invocations\", json=data)\n",
    "\n",
    "print(results.json())"
   ]
  }
 ],
 "metadata": {
  "kernelspec": {
   "display_name": "Python 3 (ipykernel)",
   "language": "python",
   "name": "python3"
  },
  "language_info": {
   "codemirror_mode": {
    "name": "ipython",
    "version": 3
   },
   "file_extension": ".py",
   "mimetype": "text/x-python",
   "name": "python",
   "nbconvert_exporter": "python",
   "pygments_lexer": "ipython3",
   "version": "3.9.13"
  }
 },
 "nbformat": 4,
 "nbformat_minor": 5
}
